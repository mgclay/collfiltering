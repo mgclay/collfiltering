{
 "cells": [
  {
   "cell_type": "code",
   "execution_count": 4,
   "id": "601b0daa",
   "metadata": {},
   "outputs": [
    {
     "name": "stdout",
     "output_type": "stream",
     "text": [
      "(943, 1664)\n",
      "(943, 1664)\n"
     ]
    }
   ],
   "source": [
    "from math import sqrt\n",
    "import pandas as pd\n",
    "import numpy as np\n",
    "import seaborn as sns\n",
    "from matplotlib import pyplot as plt\n",
    "from sklearn.metrics.pairwise import linear_kernel\n",
    "from sklearn.neighbors import NearestNeighbors\n",
    "\n",
    "\n",
    "# 1. load data\n",
    "user_ratings_train = pd.read_csv('./ml-100k/u1.base',\n",
    "                            sep='\\t',names=['user_id','movie_id','rating'], usecols=[0,1,2])\n",
    "\n",
    "user_ratings_test = pd.read_csv('./ml-100k/u1.test',\n",
    "                            sep='\\t',names=['user_id','movie_id','rating'], usecols=[0,1,2])\n",
    "\n",
    "movie_info =  pd.read_csv('./ml-100k/u.item', \n",
    "                          sep='|', names=['movie_id','title'], usecols=[0,1],\n",
    "                          encoding=\"ISO-8859-1\")\n",
    "\n",
    "user_ratings_train = pd.merge(movie_info, user_ratings_train)\n",
    "user_ratings_test = pd.merge(movie_info, user_ratings_test)\n",
    "\n",
    "# 2. get the rating matrix. Each row is a user, and each column is a movie.\n",
    "user_ratings_train = user_ratings_train.pivot_table(index=['user_id'],\n",
    "                                        columns=['title'],\n",
    "                                        values='rating')\n",
    "\n",
    "user_ratings_test = user_ratings_test.pivot_table(index=['user_id'],\n",
    "                                        columns=['title'],\n",
    "                                        values='rating')\n",
    "\n",
    "user_ratings_train = user_ratings_train.reindex(\n",
    "                            index=user_ratings_train.index.union(user_ratings_test.index), \n",
    "                            columns=user_ratings_train.columns.union(user_ratings_test.columns) )\n",
    "\n",
    "user_ratings_test = user_ratings_test.reindex(\n",
    "                            index=user_ratings_train.index.union(user_ratings_test.index), \n",
    "                            columns=user_ratings_train.columns.union(user_ratings_test.columns) )\n",
    "\n",
    "print(user_ratings_train.shape)\n",
    "print(user_ratings_test.shape)"
   ]
  },
  {
   "cell_type": "code",
   "execution_count": 5,
   "id": "16599e6d",
   "metadata": {},
   "outputs": [
    {
     "name": "stdout",
     "output_type": "stream",
     "text": [
      "MAE: 0.8630244696309352\n"
     ]
    }
   ],
   "source": [
    "#USER BASED CF\n",
    "\n",
    "from sklearn.metrics import pairwise_distances\n",
    "from sklearn.metrics import mean_absolute_error\n",
    "import math\n",
    "\n",
    "#NaNs must be replaced. using avg\n",
    "user_ratings_train['avg'] = user_ratings_train.mean(axis=1)\n",
    "user_ratings_train_new = user_ratings_train.T.fillna(user_ratings_train['avg'], axis=0).T\n",
    "\n",
    "pearson_sim_train = 1-pairwise_distances(user_ratings_train_new, metric=\"correlation\")\n",
    "\n",
    "train_model = NearestNeighbors(n_neighbors=5)\n",
    "train_model.fit(pearson_sim_train)\n",
    "\n",
    "n_distance, n_ind = train_model.kneighbors()\n",
    "n_ind += 1 # fixes indices\n",
    "\n",
    "pred = []\n",
    "actual = []\n",
    "\n",
    "for user_id, row in user_ratings_test.iterrows():\n",
    "    \n",
    "    for movie, rating in row.iteritems():\n",
    "        \n",
    "        if not pd.isnull(rating):\n",
    "            \n",
    "            pred_rating = 0\n",
    "            sim = 0\n",
    "            \n",
    "            for x in range(0,5):\n",
    "                \n",
    "                nid = n_ind[user_id-1][x]\n",
    "                n_rating = user_ratings_train.loc[nid,movie]\n",
    "                \n",
    "                if not pd.isnull(n_rating):\n",
    "                    \n",
    "                    distance = n_distance[user_id-1][x]\n",
    "                    sim += distance\n",
    "                    pred_rating += distance*(n_rating-user_ratings_train.loc[nid, 'avg'])\n",
    "            \n",
    "            if (sim != 0):\n",
    "                \n",
    "                pred_rating = pred_rating/sim\n",
    "                pred_rating += user_ratings_train.loc[user_id, 'avg']\n",
    "                pred.append(pred_rating)\n",
    "                actual.append(rating)\n",
    "\n",
    "mae = mean_absolute_error(pred, actual)\n",
    "print('MAE: ' + str(mae))"
   ]
  },
  {
   "cell_type": "code",
   "execution_count": 6,
   "id": "c6572065",
   "metadata": {},
   "outputs": [
    {
     "name": "stdout",
     "output_type": "stream",
     "text": [
      "MAE: 1.052891972039883\n"
     ]
    }
   ],
   "source": [
    "#ITEM BASED CF\n",
    "\n",
    "item_ratings_train = user_ratings_train.T\n",
    "item_ratings_test = user_ratings_test.T\n",
    "\n",
    "#NaNs must be replaced. using avg\n",
    "item_ratings_train['avg'] = item_ratings_train.mean(axis=1)\n",
    "item_ratings_train_new = item_ratings_train.T.fillna(item_ratings_train['avg'], axis=0).T\n",
    "\n",
    "#drop rows w no data\n",
    "dropped = item_ratings_train_new[item_ratings_train_new.isna().any(axis=1)]\n",
    "item_ratings_train_new = item_ratings_train_new.drop(dropped.index)\n",
    "item_ratings_test = item_ratings_test.drop(dropped.index)\n",
    "\n",
    "pearson_sim_train = 1-pairwise_distances(item_ratings_train_new, metric=\"cosine\")\n",
    "\n",
    "train_model = NearestNeighbors(n_neighbors=5) # using 5 nearest neighbors\n",
    "train_model.fit(pearson_sim_train)\n",
    "\n",
    "n_distance, n_ind = train_model.kneighbors()\n",
    "n_ind += 1 # fixing indices\n",
    "\n",
    "pred = [] #predicted ratings\n",
    "actual = [] #actual ratings\n",
    "\n",
    "for movie_id, row in item_ratings_test.iterrows():\n",
    "    \n",
    "    item_id = item_ratings_test.index.get_loc(movie_id)\n",
    "    \n",
    "    for user, rating in row.iteritems():\n",
    "        \n",
    "        if not pd.isnull(rating):\n",
    "            \n",
    "            pred_rating = 0\n",
    "            sim = 0\n",
    "            \n",
    "            for x in range(0,5):\n",
    "                \n",
    "                nid = n_ind[item_id][x]\n",
    "                n_rating = item_ratings_train.iloc[nid].loc[user]\n",
    "                \n",
    "                if not pd.isnull(n_rating):\n",
    "                    \n",
    "                    distance = n_distance[item_id][x]\n",
    "                    sim += distance\n",
    "                    pred_rating += distance*(n_rating)\n",
    "            \n",
    "            if (sim != 0):\n",
    "                \n",
    "                pred_rating = pred_rating/sim\n",
    "                pred.append(pred_rating)\n",
    "                actual.append(rating)\n",
    "\n",
    "mae = mean_absolute_error(pred, actual)\n",
    "print('MAE: ' + str(mae))"
   ]
  }
 ],
 "metadata": {
  "kernelspec": {
   "display_name": "Python 3.10.6 64-bit (microsoft store)",
   "language": "python",
   "name": "python3"
  },
  "language_info": {
   "codemirror_mode": {
    "name": "ipython",
    "version": 3
   },
   "file_extension": ".py",
   "mimetype": "text/x-python",
   "name": "python",
   "nbconvert_exporter": "python",
   "pygments_lexer": "ipython3",
   "version": "3.10.6"
  },
  "vscode": {
   "interpreter": {
    "hash": "cc8b61e0405b02f081185537607e8a26d8c3a495a1b8a145e999baa8261a8bcb"
   }
  }
 },
 "nbformat": 4,
 "nbformat_minor": 5
}
